{
 "cells": [
  {
   "cell_type": "code",
   "execution_count": 1,
   "metadata": {},
   "outputs": [],
   "source": [
    "import pandas as pd\n",
    "import seaborn as sns\n",
    "\n"
   ]
  },
  {
   "cell_type": "code",
   "execution_count": 2,
   "metadata": {},
   "outputs": [],
   "source": [
    "tlc = pd.read_parquet(\"/Users/jiang/Desktop/fhvhv_tripdata_2024-01.parquet\", engine='pyarrow')"
   ]
  },
  {
   "cell_type": "code",
   "execution_count": 3,
   "metadata": {},
   "outputs": [],
   "source": [
    "pickUpID = tlc['PULocationID']\n",
    "dropOffID = tlc['DOLocationID']"
   ]
  },
  {
   "cell_type": "code",
   "execution_count": 4,
   "metadata": {},
   "outputs": [],
   "source": [
    "tlc_nta = pd.read_csv(\"taxi-zone-lookup-with-ntacode.csv\")"
   ]
  },
  {
   "cell_type": "code",
   "execution_count": 5,
   "metadata": {},
   "outputs": [],
   "source": [
    "pu_df = tlc.merge(tlc_nta, how=\"left\", left_on='PULocationID', right_on=\"location_id\")\n",
    "do_df = tlc.merge(tlc_nta, how=\"left\", left_on='DOLocationID', right_on=\"location_id\")"
   ]
  },
  {
   "cell_type": "code",
   "execution_count": 6,
   "metadata": {},
   "outputs": [],
   "source": [
    "nta = pd.read_csv(\"Neighborhood_Cleaned.csv\")"
   ]
  },
  {
   "cell_type": "code",
   "execution_count": 7,
   "metadata": {},
   "outputs": [],
   "source": [
    "# Changes all elements in column '% Other' to be floats by removing the % symbol\n",
    "nta['% Other'] = nta[\"% Other\"].str[:-1].astype(float)"
   ]
  },
  {
   "cell_type": "code",
   "execution_count": 8,
   "metadata": {},
   "outputs": [],
   "source": [
    "mrgd = tlc.merge(tlc_nta, how=\"left\", left_on='PULocationID', right_on=\"location_id\", suffixes=(None, \"PU\"))\n",
    "mrgd = mrgd.merge(tlc_nta, how=\"left\", left_on='DOLocationID', right_on=\"location_id\", suffixes=(None, \"DO\"))"
   ]
  },
  {
   "cell_type": "code",
   "execution_count": 9,
   "metadata": {},
   "outputs": [],
   "source": [
    "mrgd = mrgd.merge(nta, how=\"left\", left_on='ntacode', right_on=\"NTA Code\", suffixes=(None, \"PU\"))\n",
    "mrgd = mrgd.merge(nta, how=\"left\", left_on='ntacodeDO', right_on=\"NTA Code\", suffixes=(None, \"DO\"))"
   ]
  },
  {
   "cell_type": "code",
   "execution_count": 10,
   "metadata": {},
   "outputs": [
    {
     "data": {
      "text/plain": [
       "Index(['hvfhs_license_num', 'dispatching_base_num', 'originating_base_num',\n",
       "       'request_datetime', 'on_scene_datetime', 'pickup_datetime',\n",
       "       'dropoff_datetime', 'PULocationID', 'DOLocationID', 'trip_miles',\n",
       "       'trip_time', 'base_passenger_fare', 'tolls', 'bcf', 'sales_tax',\n",
       "       'congestion_surcharge', 'airport_fee', 'tips', 'driver_pay',\n",
       "       'shared_request_flag', 'shared_match_flag', 'access_a_ride_flag',\n",
       "       'wav_request_flag', 'wav_match_flag', 'location_id', 'borough', 'zone',\n",
       "       'service_zone', 'ntacode', 'location_idDO', 'boroughDO', 'zoneDO',\n",
       "       'service_zoneDO', 'ntacodeDO',\n",
       "       'Neighborhood Tabulation Area (NTA) Name', 'NTA Code', 'Boro Name',\n",
       "       'Boro CD', 'Total Population', '65+ years', '%65+ yeras',\n",
       "       '%65+ Below poverty', '% Hispanic/Latino', '% White',\n",
       "       '% Black/African American', '% Asian', '% Other',\n",
       "       'Neighborhood Tabulation Area (NTA) NameDO', 'NTA CodeDO',\n",
       "       'Boro NameDO', 'Boro CDDO', 'Total PopulationDO', '65+ yearsDO',\n",
       "       '%65+ yerasDO', '%65+ Below povertyDO', '% Hispanic/LatinoDO',\n",
       "       '% WhiteDO', '% Black/African AmericanDO', '% AsianDO', '% OtherDO'],\n",
       "      dtype='object')"
      ]
     },
     "execution_count": 10,
     "metadata": {},
     "output_type": "execute_result"
    }
   ],
   "source": [
    "mrgd.columns"
   ]
  },
  {
   "cell_type": "code",
   "execution_count": 11,
   "metadata": {},
   "outputs": [],
   "source": [
    "mrgd = mrgd.drop(columns=['dispatching_base_num', 'originating_base_num',\\\n",
    "                          'location_id', 'service_zone', 'ntacode',\\\n",
    "                          'location_idDO', 'service_zoneDO', 'ntacodeDO',\\\n",
    "                          'NTA Code', 'NTA CodeDO'])"
   ]
  },
  {
   "cell_type": "code",
   "execution_count": 12,
   "metadata": {},
   "outputs": [],
   "source": [
    "mrgd = mrgd.rename(columns={'hvfhs_license_num': 'Ride-Hailing Service Number',\\\n",
    "                            'request_datetime': 'Request Datetime',\\\n",
    "                            'on_scene_datetime': 'On-Scene Datetime',\\\n",
    "                            'pickup_datetime': 'Pick-Up Datetime',\\\n",
    "                            'dropoff_datetime': 'Drop-Off Datetime',\\\n",
    "                            'PULocationID': 'Pick-Up Location ID',\\\n",
    "                            'DOLocationID': 'Drop-Off Location ID',\\\n",
    "                            'trip_miles': 'Trip Distance (miles)',\\\n",
    "                            'trip_time': 'Trip Length (seconds)',\\\n",
    "                            'base_passenger_fare': 'Base Passenger Fare',\\\n",
    "                            'tolls': 'Toll Fare',\\\n",
    "                            'bcf': 'Black Car Fund Fare',\\\n",
    "                            'sales_tax': 'NYS Sales Tax Fare',\\\n",
    "                            'congestion_surcharge': 'NYS Congestion Surcharge',\\\n",
    "                            'airport_fee': 'Airport Fee',\\\n",
    "                            'tips': 'Tips Given',\\\n",
    "                            'driver_pay': 'Driver Pay',\\\n",
    "                            'shared_request_flag': 'Passenger Agreed to Share Ride', \\\n",
    "                            'shared_match_flag': 'Passenger Shared Ride',\\\n",
    "                            'access_a_ride_flag': 'Administered by MTA',\\\n",
    "                            'wav_request_flag': 'Passenger Requested WAV',\\\n",
    "                            'wav_match_flag': 'Passenger Rode in WAV'})\n"
   ]
  },
  {
   "cell_type": "code",
   "execution_count": 13,
   "metadata": {},
   "outputs": [
    {
     "data": {
      "text/plain": [
       "Index(['Ride-Hailing Service Number', 'Request Datetime', 'On-Scene Datetime',\n",
       "       'Pick-Up Datetime', 'Drop-Off Datetime', 'Pick-Up Location ID',\n",
       "       'Drop-Off Location ID', 'Trip Distance (miles)',\n",
       "       'Trip Length (seconds)', 'Base Passenger Fare', 'Toll Fare',\n",
       "       'Black Car Fund Fare', 'NYS Sales Tax Fare', 'NYS Congestion Surcharge',\n",
       "       'Airport Fee', 'Tips Given', 'Driver Pay',\n",
       "       'Passenger Agreed to Share Ride', 'Passenger Shared Ride',\n",
       "       'Administered by MTA', 'Passenger Requested WAV',\n",
       "       'Passenger Rode in WAV', 'borough', 'zone', 'boroughDO', 'zoneDO',\n",
       "       'Neighborhood Tabulation Area (NTA) Name', 'Boro Name', 'Boro CD',\n",
       "       'Total Population', '65+ years', '%65+ yeras', '%65+ Below poverty',\n",
       "       '% Hispanic/Latino', '% White', '% Black/African American', '% Asian',\n",
       "       '% Other', 'Neighborhood Tabulation Area (NTA) NameDO', 'Boro NameDO',\n",
       "       'Boro CDDO', 'Total PopulationDO', '65+ yearsDO', '%65+ yerasDO',\n",
       "       '%65+ Below povertyDO', '% Hispanic/LatinoDO', '% WhiteDO',\n",
       "       '% Black/African AmericanDO', '% AsianDO', '% OtherDO'],\n",
       "      dtype='object')"
      ]
     },
     "execution_count": 13,
     "metadata": {},
     "output_type": "execute_result"
    }
   ],
   "source": [
    "mrgd.columns"
   ]
  },
  {
   "cell_type": "code",
   "execution_count": 14,
   "metadata": {},
   "outputs": [],
   "source": [
    "import pandas as pd\n",
    "import numpy as np\n",
    "from sklearn.linear_model import LogisticRegression\n",
    "from sklearn.model_selection import train_test_split\n",
    "from fairlearn.reductions import ExponentiatedGradient, EqualizedOdds\n",
    "from sklearn.metrics import accuracy_score"
   ]
  },
  {
   "cell_type": "code",
   "execution_count": 15,
   "metadata": {},
   "outputs": [
    {
     "name": "stderr",
     "output_type": "stream",
     "text": [
      "/var/folders/1v/jgwmbyqx15scf95nddcnzm040000gn/T/ipykernel_80171/1828435090.py:10: SettingWithCopyWarning: \n",
      "A value is trying to be set on a copy of a slice from a DataFrame.\n",
      "Try using .loc[row_indexer,col_indexer] = value instead\n",
      "\n",
      "See the caveats in the documentation: https://pandas.pydata.org/pandas-docs/stable/user_guide/indexing.html#returning-a-view-versus-a-copy\n",
      "  mrgd_copy['high_fare'] = (mrgd_copy['Base Passenger Fare'] > fare_median).astype(int)\n",
      "/var/folders/1v/jgwmbyqx15scf95nddcnzm040000gn/T/ipykernel_80171/1828435090.py:15: SettingWithCopyWarning: \n",
      "A value is trying to be set on a copy of a slice from a DataFrame.\n",
      "Try using .loc[row_indexer,col_indexer] = value instead\n",
      "\n",
      "See the caveats in the documentation: https://pandas.pydata.org/pandas-docs/stable/user_guide/indexing.html#returning-a-view-versus-a-copy\n",
      "  mrgd_copy['protected_black'] = (mrgd_copy['% Black/African American'] > eth_median).astype(int)\n"
     ]
    }
   ],
   "source": [
    "# 1. data preprocessing\n",
    "mrgd_copy = mrgd\n",
    "\n",
    "# drop rows with missing values\n",
    "mrgd_copy = mrgd_copy.dropna()\n",
    "\n",
    "# binary target\n",
    "# classify a ride as “high fare” if Base Passenger Fare > the median.\n",
    "fare_median = mrgd_copy['Base Passenger Fare'].median()\n",
    "mrgd_copy['high_fare'] = (mrgd_copy['Base Passenger Fare'] > fare_median).astype(int)\n",
    "\n",
    "# protected attribute.\n",
    "# create a binary attribute: 1 if the value is above the median, 0 otherwise.\n",
    "eth_median = mrgd_copy['% Black/African American'].median()\n",
    "mrgd_copy['protected_black'] = (mrgd_copy['% Black/African American'] > eth_median).astype(int)\n",
    "\n",
    "#eth_hispanic_median = mrgd_copy['% Hispanic/Latino'].median()\n",
    "#mrgd_copy['protected_hispanic'] = (mrgd_copy['% Hispanic/Latino'] > eth_hispanic_median).astype(int)\n",
    "\n",
    "#eth_hispanic_median = mrgd_copy['% Asian'].median()\n",
    "#mrgd_copy['protected_asian'] = (mrgd_copy['% Asian/Latino'] > eth_asian_median).astype(int)\n",
    "\n",
    "\n",
    "#  \"Trip Distance (miles)\" and \"Trip Length (seconds)\" as features\n",
    "features = ['Trip Distance (miles)', 'Trip Length (seconds)']\n",
    "X = mrgd_copy[features]\n",
    "y = mrgd_copy['high_fare']\n",
    "A = mrgd_copy['protected_black']\n",
    "\n",
    "# split the data into training and test sets\n",
    "X_train, X_test, y_train, y_test, A_train, A_test = train_test_split(\n",
    "    X, y, A, test_size=0.3, random_state=42, stratify=y\n",
    ")\n"
   ]
  },
  {
   "cell_type": "code",
   "execution_count": 16,
   "metadata": {},
   "outputs": [
    {
     "name": "stdout",
     "output_type": "stream",
     "text": [
      "=== Baseline Logistic Regression Model ===\n",
      "Baseline Accuracy: 0.878\n",
      "Baseline Error Rates by Protected Group (0: lower, 1: higher '% Black'):\n",
      "  Group 0: FPR = 0.072, FNR = 0.198\n",
      "  Group 1: FPR = 0.122, FNR = 0.080\n"
     ]
    }
   ],
   "source": [
    "#2. baseline\n",
    "print(\"=== Baseline Logistic Regression Model ===\")\n",
    "baseline_clf = LogisticRegression(solver='liblinear')\n",
    "baseline_clf.fit(X_train, y_train)\n",
    "\n",
    "# predict test set\n",
    "y_pred_baseline = baseline_clf.predict(X_test)\n",
    "\n",
    "acc_baseline = accuracy_score(y_test, y_pred_baseline)\n",
    "print(f\"Baseline Accuracy: {acc_baseline:.3f}\")\n",
    "\n",
    "# compute error rates per group (False Positive and False Negative rates)\n",
    "def compute_error_rates(y_true, y_pred, sensitive):\n",
    "    groups = np.unique(sensitive)\n",
    "    rates = {}\n",
    "    for g in groups:\n",
    "        mask = (sensitive == g)\n",
    "        y_true_g = y_true[mask]\n",
    "        y_pred_g = y_pred[mask]\n",
    "        tp = np.sum((y_true_g == 1) & (y_pred_g == 1))\n",
    "        tn = np.sum((y_true_g == 0) & (y_pred_g == 0))\n",
    "        fp = np.sum((y_true_g == 0) & (y_pred_g == 1))\n",
    "        fn = np.sum((y_true_g == 1) & (y_pred_g == 0))\n",
    "        fpr = fp / (fp + tn) if (fp + tn) > 0 else np.nan\n",
    "        fnr = fn / (fn + tp) if (fn + tp) > 0 else np.nan\n",
    "        rates[g] = {'FPR': fpr, 'FNR': fnr}\n",
    "    return rates\n",
    "\n",
    "baseline_rates = compute_error_rates(y_test.values, y_pred_baseline, A_test.values)\n",
    "print(\"Baseline Error Rates by Protected Group (0: lower, 1: higher '% Black'):\")\n",
    "for group, rates in baseline_rates.items():\n",
    "    print(f\"  Group {group}: FPR = {rates['FPR']:.3f}, FNR = {rates['FNR']:.3f}\")\n"
   ]
  },
  {
   "attachments": {},
   "cell_type": "markdown",
   "metadata": {},
   "source": [
    "Baseline Model\n",
    "Overall Accuracy: 87.8%\n",
    "\n",
    "Error Rates by Protected Group:\n",
    "Group 0 (Lower '% Black'):\n",
    "False Positive Rate (FPR): 7.2%\n",
    "False Negative Rate (FNR): 19.8%\n",
    "Group 1 (Higher '% Black'):\n",
    "FPR: 12.2%\n",
    "FNR: 8.0%\n",
    "\n",
    "The baseline model has a noticeable disparity between groups:\n",
    "FPR Disparity: Group 1 experiences a higher FPR compared to Group 0, meaning that members of Group 1 are more likely to be incorrectly classified as having a “high fare” when they actually do not.\n",
    "FNR Disparity: Conversely, Group 0 has a higher FNR, meaning they are more likely to be incorrectly classified as “low fare” when they should be “high fare.”\n",
    "This imbalance suggests that the model might be favoring one group over the other in terms of the types of errors it makes."
   ]
  },
  {
   "cell_type": "code",
   "execution_count": 17,
   "metadata": {},
   "outputs": [
    {
     "name": "stdout",
     "output_type": "stream",
     "text": [
      "\n",
      "=== Fairness-Aware Model (Equalized Odds via ExponentiatedGradient) ===\n",
      "Fair Model Accuracy: 0.766\n",
      "Fair Model Error Rates by Protected Group:\n",
      "  Group 0: FPR = 0.178, FNR = 0.299\n",
      "  Group 1: FPR = 0.176, FNR = 0.282\n"
     ]
    }
   ],
   "source": [
    "#3. fairness-aware mitigation with equalized odds\n",
    "print(\"\\n=== Fairness-Aware Model (Equalized Odds via ExponentiatedGradient) ===\")\n",
    "# Set fairness constraint\n",
    "\n",
    "constraint = EqualizedOdds()\n",
    "\n",
    "# exponentiatedGradient to enforce constraints\n",
    "fair_clf = ExponentiatedGradient(\n",
    "    estimator=LogisticRegression(solver='liblinear'),\n",
    "    constraints=constraint,\n",
    "    eps=0.01  #play around\n",
    ")\n",
    "\n",
    "# fit fairness-aware model\n",
    "fair_clf.fit(X_train, y_train, sensitive_features=A_train)\n",
    "\n",
    "y_pred_fair = fair_clf.predict(X_test)\n",
    "acc_fair = accuracy_score(y_test, y_pred_fair)\n",
    "print(f\"Fair Model Accuracy: {acc_fair:.3f}\")\n",
    "\n",
    "# analysis\n",
    "fair_rates = compute_error_rates(y_test.values, y_pred_fair, A_test.values)\n",
    "print(\"Fair Model Error Rates by Protected Group:\")\n",
    "for group, rates in fair_rates.items():\n",
    "    print(f\"  Group {group}: FPR = {rates['FPR']:.3f}, FNR = {rates['FNR']:.3f}\")"
   ]
  },
  {
   "attachments": {},
   "cell_type": "markdown",
   "metadata": {},
   "source": [
    "Fairness vs. Accuracy Trade-Off:\n",
    "\n",
    "Baseline Model: High accuracy but unequal error distribution between groups.\n",
    "\n",
    "Fairness-Aware Model: Lower overall accuracy but much more balanced error rates across groups.\n",
    "\n",
    "Implications for Price Discrimination Bias:\n",
    "\n",
    "If the goal is to mitigate price discrimination bias, equalizing error rates (i.e., ensuring that neither group is disproportionately misclassified) may be more important than achieving the highest possible accuracy.\n",
    "The fairness-aware model ensures that neither group is unfairly burdened by a higher rate of false positives or false negatives, which is a step toward reducing bias in decision-making."
   ]
  },
  {
   "attachments": {},
   "cell_type": "markdown",
   "metadata": {},
   "source": [
    "# VVV ExponentiatedGradient for more bias mitigation (didnt make a difference) VVV"
   ]
  },
  {
   "cell_type": "code",
   "execution_count": 18,
   "metadata": {},
   "outputs": [
    {
     "name": "stderr",
     "output_type": "stream",
     "text": [
      "/var/folders/1v/jgwmbyqx15scf95nddcnzm040000gn/T/ipykernel_80171/1229141784.py:5: SettingWithCopyWarning: \n",
      "A value is trying to be set on a copy of a slice from a DataFrame.\n",
      "Try using .loc[row_indexer,col_indexer] = value instead\n",
      "\n",
      "See the caveats in the documentation: https://pandas.pydata.org/pandas-docs/stable/user_guide/indexing.html#returning-a-view-versus-a-copy\n",
      "  mrgd_test['high_fare'] = (mrgd_test['Base Passenger Fare'] > fare_median).astype(int)\n",
      "/var/folders/1v/jgwmbyqx15scf95nddcnzm040000gn/T/ipykernel_80171/1229141784.py:8: SettingWithCopyWarning: \n",
      "A value is trying to be set on a copy of a slice from a DataFrame.\n",
      "Try using .loc[row_indexer,col_indexer] = value instead\n",
      "\n",
      "See the caveats in the documentation: https://pandas.pydata.org/pandas-docs/stable/user_guide/indexing.html#returning-a-view-versus-a-copy\n",
      "  mrgd_test['protected_black'] = (mrgd_test['% Black/African American'] > eth_median).astype(int)\n"
     ]
    },
    {
     "name": "stdout",
     "output_type": "stream",
     "text": [
      "Fair Model Accuracy: 0.766\n",
      "Fair Model Error Rates by Protected Group:\n",
      "  Group 0: FPR = 0.178, FNR = 0.299\n",
      "  Group 1: FPR = 0.176, FNR = 0.281\n"
     ]
    }
   ],
   "source": [
    "mrgd_test = mrgd\n",
    "mrgd_test = mrgd_test.dropna()\n",
    "\n",
    "fare_median = mrgd_test['Base Passenger Fare'].median()\n",
    "mrgd_test['high_fare'] = (mrgd_test['Base Passenger Fare'] > fare_median).astype(int)\n",
    "\n",
    "eth_median = mrgd_test['% Black/African American'].median()\n",
    "mrgd_test['protected_black'] = (mrgd_test['% Black/African American'] > eth_median).astype(int)\n",
    "\n",
    "\n",
    "features = ['Trip Distance (miles)', 'Trip Length (seconds)']\n",
    "X = mrgd_test[features]\n",
    "y = mrgd_test['high_fare']\n",
    "A = mrgd_test['protected_black']  # Protected attribute\n",
    "X_train, X_test, y_train, y_test, A_train, A_test = train_test_split(\n",
    "    X, y, A, test_size=0.3, random_state=42, stratify=y\n",
    ")\n",
    "constraint = EqualizedOdds()\n",
    "base_estimator = LogisticRegression(solver='liblinear')\n",
    "\n",
    "# ExponentiatedGradient\n",
    "# The 'eps' parameter sets the tolerance for constraint violations.\n",
    "fair_clf = ExponentiatedGradient(estimator=base_estimator, constraints=constraint, eps=0.01)\n",
    "\n",
    "fair_clf.fit(X_train, y_train, sensitive_features=A_train)\n",
    "y_pred_fair = fair_clf.predict(X_test)\n",
    "accuracy_fair = accuracy_score(y_test, y_pred_fair)\n",
    "print(f\"Fair Model Accuracy: {accuracy_fair:.3f}\")\n",
    "def compute_error_rates(y_true, y_pred, sensitive):\n",
    "    groups = np.unique(sensitive)\n",
    "    rates = {}\n",
    "    for g in groups:\n",
    "        mask = (sensitive == g)\n",
    "        y_true_group = y_true[mask]\n",
    "        y_pred_group = y_pred[mask]\n",
    "        tp = np.sum((y_true_group == 1) & (y_pred_group == 1))\n",
    "        tn = np.sum((y_true_group == 0) & (y_pred_group == 0))\n",
    "        fp = np.sum((y_true_group == 0) & (y_pred_group == 1))\n",
    "        fn = np.sum((y_true_group == 1) & (y_pred_group == 0))\n",
    "        fpr = fp / (fp + tn) if (fp + tn) > 0 else np.nan\n",
    "        fnr = fn / (fn + tp) if (fn + tp) > 0 else np.nan\n",
    "        rates[g] = {'FPR': fpr, 'FNR': fnr}\n",
    "    return rates\n",
    "\n",
    "fair_error_rates = compute_error_rates(y_test.values, y_pred_fair, A_test.values)\n",
    "print(\"Fair Model Error Rates by Protected Group:\")\n",
    "for group, metrics in fair_error_rates.items():\n",
    "    print(f\"  Group {group}: FPR = {metrics['FPR']:.3f}, FNR = {metrics['FNR']:.3f}\")\n"
   ]
  },
  {
   "attachments": {},
   "cell_type": "markdown",
   "metadata": {},
   "source": [
    "The overall accuracy has dropped to 76.6% from what might have been a higher baseline accuracy (typically seen when no fairness constraints are applied). This is a common trade-off: by enforcing fairness (i.e., equalizing error rates), the model sacrifices some predictive performance."
   ]
  },
  {
   "attachments": {},
   "cell_type": "markdown",
   "metadata": {},
   "source": [
    "classifier is used to predict whether a ride's fare is \"high\" or \"low\"—the error metrics are defined as:\n",
    "\n",
    "False Positive Rate (FPR):\n",
    "low-fare (negative cases) but are incorrectly predicted as high-fare (positive cases). COMPARE the FPR across different groups (neighborhoods with higher versus lower percentages of Black residents) helps identify if one group is more likely to be wrongly charged a high fare.\n",
    "\n",
    "False Negative Rate (FNR):\n",
    "Actually high-fare (positive cases) but are incorrectly predicted as low-fare (negative cases). Compare FNR across groups and if one group is more likely to be undercharged when they should be classified as high-fare.\n",
    "If one group shows a significantly higher FPR or FNR, it would indicate that the model is biased against that group."
   ]
  },
  {
   "attachments": {},
   "cell_type": "markdown",
   "metadata": {},
   "source": [
    "# VVVV IGNORE FOR NOW (dont run) VVVV"
   ]
  },
  {
   "cell_type": "code",
   "execution_count": 19,
   "metadata": {},
   "outputs": [],
   "source": [
    "import pandas as pd\n",
    "import numpy as np\n",
    "import matplotlib.pyplot as plt\n",
    "import seaborn as sns\n",
    "\n",
    "from sklearn.linear_model import LogisticRegression\n",
    "from sklearn.model_selection import train_test_split\n",
    "from sklearn.metrics import accuracy_score\n",
    "\n",
    "from fairlearn.reductions import ExponentiatedGradient, EqualizedOdds"
   ]
  },
  {
   "cell_type": "code",
   "execution_count": 20,
   "metadata": {},
   "outputs": [
    {
     "name": "stdout",
     "output_type": "stream",
     "text": [
      "\n",
      "Evaluating for protected attribute: Black (protected_black)\n",
      "Baseline Accuracy: 0.878\n",
      "Fair Model Accuracy: 0.766\n",
      "\n",
      "Evaluating for protected attribute: Hispanic (protected_hispanic)\n",
      "Baseline Accuracy: 0.878\n",
      "Fair Model Accuracy: 0.780\n",
      "\n",
      "Evaluating for protected attribute: White (protected_white)\n",
      "Baseline Accuracy: 0.878\n",
      "Fair Model Accuracy: 0.778\n",
      "\n",
      "Evaluating for protected attribute: Asian (protected_asian)\n",
      "Baseline Accuracy: 0.878\n",
      "Fair Model Accuracy: 0.693\n",
      "\n",
      "Evaluating for protected attribute: Other (protected_other)\n",
      "Baseline Accuracy: 0.878\n",
      "Fair Model Accuracy: 0.815\n",
      "\n",
      "Comparison of Error Disparities and Accuracies:\n",
      "  Ethnicity           Model  FPR_Disparity  FNR_Disparity  Accuracy\n",
      "0     Black        Baseline       0.049385       0.118028  0.877918\n",
      "1     Black  Fairness-Aware       0.000668       0.016883  0.765675\n",
      "2  Hispanic        Baseline       0.047129       0.133224  0.877918\n",
      "3  Hispanic  Fairness-Aware       0.012678       0.018273  0.779683\n",
      "4     White        Baseline       0.053903       0.144961  0.877918\n",
      "5     White  Fairness-Aware       0.005903       0.017525  0.778158\n",
      "6     Asian        Baseline       0.035053       0.079815  0.877918\n",
      "7     Asian  Fairness-Aware       0.012210       0.018819  0.693134\n",
      "8     Other        Baseline       0.023950       0.047790  0.877918\n",
      "9     Other  Fairness-Aware       0.016001       0.020035  0.815147\n"
     ]
    },
    {
     "data": {
      "image/png": "[encoded data removed]",
      "text/plain": [
       "<Figure size 1400x600 with 2 Axes>"
      ]
     },
     "metadata": {},
     "output_type": "display_data"
    },
    {
     "data": {
      "image/png": "[encoded data removed]",
      "text/plain": [
       "<Figure size 800x600 with 1 Axes>"
      ]
     },
     "metadata": {},
     "output_type": "display_data"
    }
   ],
   "source": [
    "# 1. Load and Preprocess the Data\n",
    "\n",
    "\n",
    "mrgd = mrgd.dropna()\n",
    "fare_median = mrgd['Base Passenger Fare'].median()\n",
    "mrgd['high_fare'] = (mrgd['Base Passenger Fare'] > fare_median).astype(int)\n",
    "\n",
    "features = ['Trip Distance (miles)', 'Trip Length (seconds)']\n",
    "\n",
    "ethnicities = {\n",
    "    'Black': '% Black/African American',\n",
    "    'Hispanic': '% Hispanic/Latino',\n",
    "    'White': '% White',\n",
    "    'Asian': '% Asian',\n",
    "    'Other': '% Other'\n",
    "}\n",
    "\n",
    "for eth, col in ethnicities.items():\n",
    "    median_val = mrgd[col].median()\n",
    "    mrgd[f'protected_{eth.lower()}'] = (mrgd[col] > median_val).astype(int)\n",
    "\n",
    "def compute_error_rates(y_true, y_pred, sensitive):\n",
    "    \"\"\"\n",
    "    Computes the False Positive Rate (FPR) and False Negative Rate (FNR)\n",
    "    for each subgroup defined by the sensitive attribute.\n",
    "    Returns a dictionary with keys for each group (e.g., 0 and 1).\n",
    "    \"\"\"\n",
    "    groups = np.unique(sensitive)\n",
    "    rates = {}\n",
    "    for g in groups:\n",
    "        mask = (sensitive == g)\n",
    "        y_true_group = y_true[mask]\n",
    "        y_pred_group = y_pred[mask]\n",
    "        tp = np.sum((y_true_group == 1) & (y_pred_group == 1))\n",
    "        tn = np.sum((y_true_group == 0) & (y_pred_group == 0))\n",
    "        fp = np.sum((y_true_group == 0) & (y_pred_group == 1))\n",
    "        fn = np.sum((y_true_group == 1) & (y_pred_group == 0))\n",
    "        # Avoid division by zero\n",
    "        fpr = fp / (fp + tn) if (fp + tn) > 0 else np.nan\n",
    "        fnr = fn / (fn + tp) if (fn + tp) > 0 else np.nan\n",
    "        rates[g] = {'FPR': fpr, 'FNR': fnr}\n",
    "    return rates\n",
    "\n",
    "results = []\n",
    "\n",
    "for eth, col in ethnicities.items():\n",
    "    sens_col = f'protected_{eth.lower()}'\n",
    "    print(f\"\\nEvaluating for protected attribute: {eth} ({sens_col})\")\n",
    "    \n",
    "    X = mrgd[features]\n",
    "    y = mrgd['high_fare']\n",
    "    A = mrgd[sens_col]\n",
    "    \n",
    "    # Split the data into training and test sets\n",
    "    X_train, X_test, y_train, y_test, A_train, A_test = train_test_split(\n",
    "        X, y, A, test_size=0.3, random_state=42, stratify=y\n",
    "    )\n",
    "    \n",
    "    # ----- Baseline Model -----\n",
    "    baseline_clf = LogisticRegression(solver='liblinear')\n",
    "    baseline_clf.fit(X_train, y_train)\n",
    "    y_pred_baseline = baseline_clf.predict(X_test)\n",
    "\n",
    "    baseline_acc = accuracy_score(y_test, y_pred_baseline)\n",
    "    print(f\"Baseline Accuracy: {baseline_acc:.3f}\")\n",
    "    \n",
    "    baseline_rates = compute_error_rates(y_test.values, y_pred_baseline, A_test.values)\n",
    "    baseline_fpr_disp = abs(baseline_rates[0]['FPR'] - baseline_rates[1]['FPR'])\n",
    "    baseline_fnr_disp = abs(baseline_rates[0]['FNR'] - baseline_rates[1]['FNR'])\n",
    "    \n",
    "    results.append({\n",
    "        'Ethnicity': eth,\n",
    "        'Model': 'Baseline',\n",
    "        'FPR_Disparity': baseline_fpr_disp,\n",
    "        'FNR_Disparity': baseline_fnr_disp,\n",
    "        'Accuracy': baseline_acc\n",
    "    })\n",
    "    \n",
    "    # ----- Fairness-Aware Model (ExponentiatedGradient with Equalized Odds) -----\n",
    "    constraint = EqualizedOdds()\n",
    "    fair_clf = ExponentiatedGradient(\n",
    "        estimator=LogisticRegression(solver='liblinear'),\n",
    "        constraints=constraint,\n",
    "        eps=0.01  # Adjust as needed\n",
    "    )\n",
    "    fair_clf.fit(X_train, y_train, sensitive_features=A_train)\n",
    "    y_pred_fair = fair_clf.predict(X_test)\n",
    "    \n",
    "    fair_acc = accuracy_score(y_test, y_pred_fair)\n",
    "    print(f\"Fair Model Accuracy: {fair_acc:.3f}\")\n",
    "    \n",
    "    fair_rates = compute_error_rates(y_test.values, y_pred_fair, A_test.values)\n",
    "    fair_fpr_disp = abs(fair_rates[0]['FPR'] - fair_rates[1]['FPR'])\n",
    "    fair_fnr_disp = abs(fair_rates[0]['FNR'] - fair_rates[1]['FNR'])\n",
    "    \n",
    "    results.append({\n",
    "        'Ethnicity': eth,\n",
    "        'Model': 'Fairness-Aware',\n",
    "        'FPR_Disparity': fair_fpr_disp,\n",
    "        'FNR_Disparity': fair_fnr_disp,\n",
    "        'Accuracy': fair_acc\n",
    "    })\n",
    "\n",
    "results_df = pd.DataFrame(results)\n",
    "print(\"\\nComparison of Error Disparities and Accuracies:\")\n",
    "print(results_df)\n",
    "\n",
    "sns.set(style=\"whitegrid\")\n",
    "fig, axes = plt.subplots(1, 2, figsize=(14, 6))\n",
    "\n",
    "sns.barplot(\n",
    "    data=results_df,\n",
    "    x='Ethnicity',\n",
    "    y='FPR_Disparity',\n",
    "    hue='Model',\n",
    "    ax=axes[0]\n",
    ")\n",
    "axes[0].set_title('False Positive Rate (FPR) Disparity by Ethnicity')\n",
    "axes[0].set_ylabel('Absolute Difference in FPR')\n",
    "axes[0].set_xlabel('Ethnicity')\n",
    "\n",
    "sns.barplot(\n",
    "    data=results_df,\n",
    "    x='Ethnicity',\n",
    "    y='FNR_Disparity',\n",
    "    hue='Model',\n",
    "    ax=axes[1]\n",
    ")\n",
    "axes[1].set_title('False Negative Rate (FNR) Disparity by Ethnicity')\n",
    "axes[1].set_ylabel('Absolute Difference in FNR')\n",
    "axes[1].set_xlabel('Ethnicity')\n",
    "\n",
    "plt.tight_layout()\n",
    "plt.show()\n",
    "\n",
    "plt.figure(figsize=(8, 6))\n",
    "sns.barplot(\n",
    "    data=results_df,\n",
    "    x='Ethnicity',\n",
    "    y='Accuracy',\n",
    "    hue='Model'\n",
    ")\n",
    "plt.title('Overall Accuracy Comparison by Ethnicity')\n",
    "plt.ylabel('Accuracy')\n",
    "plt.xlabel('Ethnicity')\n",
    "plt.ylim(0, 1)\n",
    "plt.show()\n"
   ]
  },
  {
   "cell_type": "code",
   "execution_count": null,
   "metadata": {},
   "outputs": [],
   "source": []
  },
  {
   "cell_type": "code",
   "execution_count": null,
   "metadata": {},
   "outputs": [],
   "source": []
  }
 ],
 "metadata": {
  "kernelspec": {
   "display_name": "base",
   "language": "python",
   "name": "python3"
  },
  "language_info": {
   "codemirror_mode": {
    "name": "ipython",
    "version": 3
   },
   "file_extension": ".py",
   "mimetype": "text/x-python",
   "name": "python",
   "nbconvert_exporter": "python",
   "pygments_lexer": "ipython3",
   "version": "3.8.18"
  }
 },
 "nbformat": 4,
 "nbformat_minor": 2
}
