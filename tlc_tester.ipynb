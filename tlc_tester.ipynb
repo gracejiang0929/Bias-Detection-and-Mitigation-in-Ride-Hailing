{
 "cells": [
  {
   "cell_type": "code",
   "execution_count": 20,
   "metadata": {},
   "outputs": [],
   "source": [
    "import pandas as pd\n",
    "tripdf = pd.read_parquet(\"fhvhv_tripdata_2024-01.parquet\", engine='pyarrow')"
   ]
  },
  {
   "cell_type": "code",
   "execution_count": 21,
   "metadata": {},
   "outputs": [
    {
     "data": {
      "text/html": [
       "<div>\n",
       "<style scoped>\n",
       "    .dataframe tbody tr th:only-of-type {\n",
       "        vertical-align: middle;\n",
       "    }\n",
       "\n",
       "    .dataframe tbody tr th {\n",
       "        vertical-align: top;\n",
       "    }\n",
       "\n",
       "    .dataframe thead th {\n",
       "        text-align: right;\n",
       "    }\n",
       "</style>\n",
       "<table border=\"1\" class=\"dataframe\">\n",
       "  <thead>\n",
       "    <tr style=\"text-align: right;\">\n",
       "      <th></th>\n",
       "      <th>hvfhs_license_num</th>\n",
       "      <th>dispatching_base_num</th>\n",
       "      <th>originating_base_num</th>\n",
       "      <th>request_datetime</th>\n",
       "      <th>on_scene_datetime</th>\n",
       "      <th>pickup_datetime</th>\n",
       "      <th>dropoff_datetime</th>\n",
       "      <th>PULocationID</th>\n",
       "      <th>DOLocationID</th>\n",
       "      <th>trip_miles</th>\n",
       "      <th>...</th>\n",
       "      <th>sales_tax</th>\n",
       "      <th>congestion_surcharge</th>\n",
       "      <th>airport_fee</th>\n",
       "      <th>tips</th>\n",
       "      <th>driver_pay</th>\n",
       "      <th>shared_request_flag</th>\n",
       "      <th>shared_match_flag</th>\n",
       "      <th>access_a_ride_flag</th>\n",
       "      <th>wav_request_flag</th>\n",
       "      <th>wav_match_flag</th>\n",
       "    </tr>\n",
       "  </thead>\n",
       "  <tbody>\n",
       "    <tr>\n",
       "      <th>0</th>\n",
       "      <td>HV0003</td>\n",
       "      <td>B03404</td>\n",
       "      <td>B03404</td>\n",
       "      <td>2024-01-01 00:21:47</td>\n",
       "      <td>2024-01-01 00:25:06</td>\n",
       "      <td>2024-01-01 00:28:08</td>\n",
       "      <td>2024-01-01 01:05:39</td>\n",
       "      <td>161</td>\n",
       "      <td>158</td>\n",
       "      <td>2.83</td>\n",
       "      <td>...</td>\n",
       "      <td>4.05</td>\n",
       "      <td>2.75</td>\n",
       "      <td>0.0</td>\n",
       "      <td>0.0</td>\n",
       "      <td>40.18</td>\n",
       "      <td>N</td>\n",
       "      <td>N</td>\n",
       "      <td>N</td>\n",
       "      <td>N</td>\n",
       "      <td>N</td>\n",
       "    </tr>\n",
       "    <tr>\n",
       "      <th>1</th>\n",
       "      <td>HV0003</td>\n",
       "      <td>B03404</td>\n",
       "      <td>B03404</td>\n",
       "      <td>2024-01-01 00:10:56</td>\n",
       "      <td>2024-01-01 00:11:08</td>\n",
       "      <td>2024-01-01 00:12:53</td>\n",
       "      <td>2024-01-01 00:20:05</td>\n",
       "      <td>137</td>\n",
       "      <td>79</td>\n",
       "      <td>1.57</td>\n",
       "      <td>...</td>\n",
       "      <td>0.89</td>\n",
       "      <td>2.75</td>\n",
       "      <td>0.0</td>\n",
       "      <td>0.0</td>\n",
       "      <td>6.12</td>\n",
       "      <td>N</td>\n",
       "      <td>N</td>\n",
       "      <td>N</td>\n",
       "      <td>N</td>\n",
       "      <td>N</td>\n",
       "    </tr>\n",
       "    <tr>\n",
       "      <th>2</th>\n",
       "      <td>HV0003</td>\n",
       "      <td>B03404</td>\n",
       "      <td>B03404</td>\n",
       "      <td>2024-01-01 00:20:04</td>\n",
       "      <td>2024-01-01 00:21:51</td>\n",
       "      <td>2024-01-01 00:23:05</td>\n",
       "      <td>2024-01-01 00:35:16</td>\n",
       "      <td>79</td>\n",
       "      <td>186</td>\n",
       "      <td>1.98</td>\n",
       "      <td>...</td>\n",
       "      <td>1.60</td>\n",
       "      <td>2.75</td>\n",
       "      <td>0.0</td>\n",
       "      <td>0.0</td>\n",
       "      <td>9.47</td>\n",
       "      <td>N</td>\n",
       "      <td>N</td>\n",
       "      <td>N</td>\n",
       "      <td>N</td>\n",
       "      <td>N</td>\n",
       "    </tr>\n",
       "    <tr>\n",
       "      <th>3</th>\n",
       "      <td>HV0003</td>\n",
       "      <td>B03404</td>\n",
       "      <td>B03404</td>\n",
       "      <td>2024-01-01 00:35:46</td>\n",
       "      <td>2024-01-01 00:39:59</td>\n",
       "      <td>2024-01-01 00:41:04</td>\n",
       "      <td>2024-01-01 00:56:34</td>\n",
       "      <td>234</td>\n",
       "      <td>148</td>\n",
       "      <td>1.99</td>\n",
       "      <td>...</td>\n",
       "      <td>1.52</td>\n",
       "      <td>2.75</td>\n",
       "      <td>0.0</td>\n",
       "      <td>0.0</td>\n",
       "      <td>11.35</td>\n",
       "      <td>N</td>\n",
       "      <td>N</td>\n",
       "      <td>N</td>\n",
       "      <td>N</td>\n",
       "      <td>N</td>\n",
       "    </tr>\n",
       "    <tr>\n",
       "      <th>4</th>\n",
       "      <td>HV0003</td>\n",
       "      <td>B03404</td>\n",
       "      <td>B03404</td>\n",
       "      <td>2024-01-01 00:48:19</td>\n",
       "      <td>2024-01-01 00:56:23</td>\n",
       "      <td>2024-01-01 00:57:21</td>\n",
       "      <td>2024-01-01 01:10:02</td>\n",
       "      <td>148</td>\n",
       "      <td>97</td>\n",
       "      <td>2.65</td>\n",
       "      <td>...</td>\n",
       "      <td>3.43</td>\n",
       "      <td>2.75</td>\n",
       "      <td>0.0</td>\n",
       "      <td>0.0</td>\n",
       "      <td>28.63</td>\n",
       "      <td>N</td>\n",
       "      <td>N</td>\n",
       "      <td>N</td>\n",
       "      <td>N</td>\n",
       "      <td>N</td>\n",
       "    </tr>\n",
       "  </tbody>\n",
       "</table>\n",
       "<p>5 rows × 24 columns</p>\n",
       "</div>"
      ],
      "text/plain": [
       "  hvfhs_license_num dispatching_base_num originating_base_num  \\\n",
       "0            HV0003               B03404               B03404   \n",
       "1            HV0003               B03404               B03404   \n",
       "2            HV0003               B03404               B03404   \n",
       "3            HV0003               B03404               B03404   \n",
       "4            HV0003               B03404               B03404   \n",
       "\n",
       "     request_datetime   on_scene_datetime     pickup_datetime  \\\n",
       "0 2024-01-01 00:21:47 2024-01-01 00:25:06 2024-01-01 00:28:08   \n",
       "1 2024-01-01 00:10:56 2024-01-01 00:11:08 2024-01-01 00:12:53   \n",
       "2 2024-01-01 00:20:04 2024-01-01 00:21:51 2024-01-01 00:23:05   \n",
       "3 2024-01-01 00:35:46 2024-01-01 00:39:59 2024-01-01 00:41:04   \n",
       "4 2024-01-01 00:48:19 2024-01-01 00:56:23 2024-01-01 00:57:21   \n",
       "\n",
       "     dropoff_datetime  PULocationID  DOLocationID  trip_miles  ...  sales_tax  \\\n",
       "0 2024-01-01 01:05:39           161           158        2.83  ...       4.05   \n",
       "1 2024-01-01 00:20:05           137            79        1.57  ...       0.89   \n",
       "2 2024-01-01 00:35:16            79           186        1.98  ...       1.60   \n",
       "3 2024-01-01 00:56:34           234           148        1.99  ...       1.52   \n",
       "4 2024-01-01 01:10:02           148            97        2.65  ...       3.43   \n",
       "\n",
       "   congestion_surcharge  airport_fee  tips  driver_pay  shared_request_flag  \\\n",
       "0                  2.75          0.0   0.0       40.18                    N   \n",
       "1                  2.75          0.0   0.0        6.12                    N   \n",
       "2                  2.75          0.0   0.0        9.47                    N   \n",
       "3                  2.75          0.0   0.0       11.35                    N   \n",
       "4                  2.75          0.0   0.0       28.63                    N   \n",
       "\n",
       "   shared_match_flag  access_a_ride_flag  wav_request_flag wav_match_flag  \n",
       "0                  N                   N                 N              N  \n",
       "1                  N                   N                 N              N  \n",
       "2                  N                   N                 N              N  \n",
       "3                  N                   N                 N              N  \n",
       "4                  N                   N                 N              N  \n",
       "\n",
       "[5 rows x 24 columns]"
      ]
     },
     "execution_count": 21,
     "metadata": {},
     "output_type": "execute_result"
    }
   ],
   "source": [
    "tripdf.head()"
   ]
  },
  {
   "cell_type": "code",
   "execution_count": 25,
   "metadata": {},
   "outputs": [
    {
     "data": {
      "text/plain": [
       "19663930"
      ]
     },
     "execution_count": 25,
     "metadata": {},
     "output_type": "execute_result"
    }
   ],
   "source": [
    "len(tripdf)"
   ]
  },
  {
   "cell_type": "code",
   "execution_count": 34,
   "metadata": {},
   "outputs": [],
   "source": [
    "\n",
    "# Filter the DataFrame to include only rows within this date range\n",
    "tripdf = tripdf[(tripdf['request_datetime'] >= pd.Timestamp('2024-01-25'))]"
   ]
  },
  {
   "cell_type": "code",
   "execution_count": 33,
   "metadata": {},
   "outputs": [
    {
     "data": {
      "text/plain": [
       "4564976"
      ]
     },
     "execution_count": 33,
     "metadata": {},
     "output_type": "execute_result"
    }
   ],
   "source": [
    "len(tripdf)"
   ]
  },
  {
   "cell_type": "code",
   "execution_count": 28,
   "metadata": {},
   "outputs": [],
   "source": [
    "pickUpID = tripdf['PULocationID']\n",
    "dropOffID = tripdf['DOLocationID']"
   ]
  },
  {
   "cell_type": "code",
   "execution_count": 29,
   "metadata": {},
   "outputs": [
    {
     "data": {
      "text/plain": [
       "138    77364\n",
       "132    72212\n",
       "79     66336\n",
       "61     59297\n",
       "161    58165\n",
       "       ...  \n",
       "110        4\n",
       "2          3\n",
       "1          1\n",
       "105        1\n",
       "199        1\n",
       "Name: PULocationID, Length: 262, dtype: int64"
      ]
     },
     "execution_count": 29,
     "metadata": {},
     "output_type": "execute_result"
    }
   ],
   "source": [
    "pickUpID.value_counts()"
   ]
  },
  {
   "cell_type": "code",
   "execution_count": 30,
   "metadata": {},
   "outputs": [
    {
     "data": {
      "text/plain": [
       "265    179343\n",
       "132     86157\n",
       "138     84221\n",
       "61      61445\n",
       "79      56218\n",
       "        ...  \n",
       "99        121\n",
       "8         102\n",
       "110        13\n",
       "2           5\n",
       "105         1\n",
       "Name: DOLocationID, Length: 261, dtype: int64"
      ]
     },
     "execution_count": 30,
     "metadata": {},
     "output_type": "execute_result"
    }
   ],
   "source": [
    "dropOffID.value_counts()"
   ]
  },
  {
   "cell_type": "code",
   "execution_count": 23,
   "metadata": {},
   "outputs": [],
   "source": [
    "tlc_nta = pd.read_csv(\"taxi-zone-lookup-with-ntacode.csv\")"
   ]
  },
  {
   "cell_type": "code",
   "execution_count": 24,
   "metadata": {},
   "outputs": [
    {
     "data": {
      "text/html": [
       "<div>\n",
       "<style scoped>\n",
       "    .dataframe tbody tr th:only-of-type {\n",
       "        vertical-align: middle;\n",
       "    }\n",
       "\n",
       "    .dataframe tbody tr th {\n",
       "        vertical-align: top;\n",
       "    }\n",
       "\n",
       "    .dataframe thead th {\n",
       "        text-align: right;\n",
       "    }\n",
       "</style>\n",
       "<table border=\"1\" class=\"dataframe\">\n",
       "  <thead>\n",
       "    <tr style=\"text-align: right;\">\n",
       "      <th></th>\n",
       "      <th>location_id</th>\n",
       "      <th>borough</th>\n",
       "      <th>zone</th>\n",
       "      <th>service_zone</th>\n",
       "      <th>ntacode</th>\n",
       "    </tr>\n",
       "  </thead>\n",
       "  <tbody>\n",
       "    <tr>\n",
       "      <th>0</th>\n",
       "      <td>1</td>\n",
       "      <td>EWR</td>\n",
       "      <td>Newark Airport</td>\n",
       "      <td>EWR</td>\n",
       "      <td>NJ01</td>\n",
       "    </tr>\n",
       "    <tr>\n",
       "      <th>1</th>\n",
       "      <td>2</td>\n",
       "      <td>Queens</td>\n",
       "      <td>Jamaica Bay</td>\n",
       "      <td>Boro Zone</td>\n",
       "      <td>QN61</td>\n",
       "    </tr>\n",
       "    <tr>\n",
       "      <th>2</th>\n",
       "      <td>3</td>\n",
       "      <td>Bronx</td>\n",
       "      <td>Allerton/Pelham Gardens</td>\n",
       "      <td>Boro Zone</td>\n",
       "      <td>BX31</td>\n",
       "    </tr>\n",
       "    <tr>\n",
       "      <th>3</th>\n",
       "      <td>4</td>\n",
       "      <td>Manhattan</td>\n",
       "      <td>Alphabet City</td>\n",
       "      <td>Yellow Zone</td>\n",
       "      <td>MN22</td>\n",
       "    </tr>\n",
       "    <tr>\n",
       "      <th>4</th>\n",
       "      <td>5</td>\n",
       "      <td>Staten Island</td>\n",
       "      <td>Arden Heights</td>\n",
       "      <td>Boro Zone</td>\n",
       "      <td>SI48</td>\n",
       "    </tr>\n",
       "    <tr>\n",
       "      <th>...</th>\n",
       "      <td>...</td>\n",
       "      <td>...</td>\n",
       "      <td>...</td>\n",
       "      <td>...</td>\n",
       "      <td>...</td>\n",
       "    </tr>\n",
       "    <tr>\n",
       "      <th>260</th>\n",
       "      <td>261</td>\n",
       "      <td>Manhattan</td>\n",
       "      <td>World Trade Center</td>\n",
       "      <td>Yellow Zone</td>\n",
       "      <td>MN25</td>\n",
       "    </tr>\n",
       "    <tr>\n",
       "      <th>261</th>\n",
       "      <td>262</td>\n",
       "      <td>Manhattan</td>\n",
       "      <td>Yorkville East</td>\n",
       "      <td>Yellow Zone</td>\n",
       "      <td>MN32</td>\n",
       "    </tr>\n",
       "    <tr>\n",
       "      <th>262</th>\n",
       "      <td>263</td>\n",
       "      <td>Manhattan</td>\n",
       "      <td>Yorkville West</td>\n",
       "      <td>Yellow Zone</td>\n",
       "      <td>MN32</td>\n",
       "    </tr>\n",
       "    <tr>\n",
       "      <th>263</th>\n",
       "      <td>264</td>\n",
       "      <td>Unknown</td>\n",
       "      <td>NV</td>\n",
       "      <td>NaN</td>\n",
       "      <td>NaN</td>\n",
       "    </tr>\n",
       "    <tr>\n",
       "      <th>264</th>\n",
       "      <td>265</td>\n",
       "      <td>Unknown</td>\n",
       "      <td>NaN</td>\n",
       "      <td>NaN</td>\n",
       "      <td>NaN</td>\n",
       "    </tr>\n",
       "  </tbody>\n",
       "</table>\n",
       "<p>265 rows × 5 columns</p>\n",
       "</div>"
      ],
      "text/plain": [
       "     location_id        borough                     zone service_zone ntacode\n",
       "0              1            EWR           Newark Airport          EWR    NJ01\n",
       "1              2         Queens              Jamaica Bay    Boro Zone    QN61\n",
       "2              3          Bronx  Allerton/Pelham Gardens    Boro Zone    BX31\n",
       "3              4      Manhattan            Alphabet City  Yellow Zone    MN22\n",
       "4              5  Staten Island            Arden Heights    Boro Zone    SI48\n",
       "..           ...            ...                      ...          ...     ...\n",
       "260          261      Manhattan       World Trade Center  Yellow Zone    MN25\n",
       "261          262      Manhattan           Yorkville East  Yellow Zone    MN32\n",
       "262          263      Manhattan           Yorkville West  Yellow Zone    MN32\n",
       "263          264        Unknown                       NV          NaN     NaN\n",
       "264          265        Unknown                      NaN          NaN     NaN\n",
       "\n",
       "[265 rows x 5 columns]"
      ]
     },
     "execution_count": 24,
     "metadata": {},
     "output_type": "execute_result"
    }
   ],
   "source": [
    "tlc_nta"
   ]
  },
  {
   "cell_type": "code",
   "execution_count": 36,
   "metadata": {},
   "outputs": [],
   "source": [
    "pu_df = tripdf.merge(tlc_nta, how=\"left\", left_on='PULocationID', right_on=\"location_id\")\n",
    "do_df = tripdf.merge(tlc_nta, how=\"left\", left_on='DOLocationID', right_on=\"location_id\")"
   ]
  },
  {
   "cell_type": "code",
   "execution_count": 37,
   "metadata": {},
   "outputs": [
    {
     "data": {
      "text/plain": [
       "LaGuardia Airport                                77364\n",
       "JFK Airport                                      72212\n",
       "East Village                                     66336\n",
       "Crown Heights North                              59297\n",
       "Midtown Center                                   58165\n",
       "                                                 ...  \n",
       "Great Kills Park                                     4\n",
       "Jamaica Bay                                          3\n",
       "Newark Airport                                       1\n",
       "Governor's Island/Ellis Island/Liberty Island        1\n",
       "Rikers Island                                        1\n",
       "Name: zone, Length: 260, dtype: int64"
      ]
     },
     "execution_count": 37,
     "metadata": {},
     "output_type": "execute_result"
    }
   ],
   "source": [
    "pu_df['zone'].value_counts()"
   ]
  },
  {
   "cell_type": "code",
   "execution_count": 38,
   "metadata": {},
   "outputs": [
    {
     "data": {
      "text/plain": [
       "JFK Airport                                      86157\n",
       "LaGuardia Airport                                84221\n",
       "Crown Heights North                              61445\n",
       "East Village                                     56218\n",
       "Midtown Center                                   50798\n",
       "                                                 ...  \n",
       "Freshkills Park                                    121\n",
       "Astoria Park                                       102\n",
       "Great Kills Park                                    13\n",
       "Jamaica Bay                                          5\n",
       "Governor's Island/Ellis Island/Liberty Island        1\n",
       "Name: zone, Length: 259, dtype: int64"
      ]
     },
     "execution_count": 38,
     "metadata": {},
     "output_type": "execute_result"
    }
   ],
   "source": [
    "do_df['zone'].value_counts()"
   ]
  },
  {
   "cell_type": "code",
   "execution_count": null,
   "metadata": {},
   "outputs": [],
   "source": []
  }
 ],
 "metadata": {
  "kernelspec": {
   "display_name": "base",
   "language": "python",
   "name": "python3"
  },
  "language_info": {
   "codemirror_mode": {
    "name": "ipython",
    "version": 3
   },
   "file_extension": ".py",
   "mimetype": "text/x-python",
   "name": "python",
   "nbconvert_exporter": "python",
   "pygments_lexer": "ipython3",
   "version": "3.9.13"
  }
 },
 "nbformat": 4,
 "nbformat_minor": 2
}
